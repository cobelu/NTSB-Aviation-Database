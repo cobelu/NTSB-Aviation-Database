{
 "cells": [
  {
   "cell_type": "code",
   "execution_count": 92,
   "metadata": {},
   "outputs": [],
   "source": [
    "import math\n",
    "import pandas as pd\n",
    "import matplotlib.pyplot as plt\n",
    "from scipy.stats import ttest_ind\n",
    "\n",
    "plt.style.use('seaborn')"
   ]
  },
  {
   "cell_type": "markdown",
   "metadata": {},
   "source": [
    "https://www.kitplanes.com/homebuilt-accidents-focus-on-vans/?fbclid=IwAR16rMvKRhAimdUmXEr3VduVHuHiNZc0G08vp0zmC9sv46oHW1a6PhQ4E8Q"
   ]
  },
  {
   "cell_type": "markdown",
   "metadata": {},
   "source": [
    "Load data"
   ]
  },
  {
   "cell_type": "code",
   "execution_count": 93,
   "metadata": {},
   "outputs": [],
   "source": [
    "all_df = pd.read_csv('data/aircraft.csv')\n",
    "exp_df = all_df.dropna(subset=['acft_model'])  # [['']]"
   ]
  },
  {
   "cell_type": "markdown",
   "metadata": {},
   "source": [
    "Get the PIC time data"
   ]
  },
  {
   "cell_type": "code",
   "execution_count": 94,
   "metadata": {},
   "outputs": [],
   "source": [
    "pilot_df = pd.read_csv('data/flight_time.csv')\n",
    "pilot_df = pilot_df[pilot_df['flight_type'].str.lower().str.strip().str.contains(pat='totl')]\n",
    "pilot_df = pilot_df[pilot_df['flight_craft'].str.lower().str.strip().str.contains(pat='all')]\n",
    "pilot_df = pilot_df[pilot_df['crew_no'] == 1]\n",
    "pilot_df = pilot_df[['ev_id', 'flight_hours']]"
   ]
  },
  {
   "cell_type": "markdown",
   "metadata": {},
   "source": [
    "Join the RV and pilot dataframes"
   ]
  },
  {
   "cell_type": "code",
   "execution_count": 95,
   "metadata": {},
   "outputs": [],
   "source": [
    "vans_df = exp_df[exp_df['acft_model'].str.lower().str.strip().str.contains(pat='rv')]\n",
    "vans_df = vans_df.merge(pilot_df, on='ev_id')[['acft_model', 'flight_hours', 'ev_id']]"
   ]
  },
  {
   "cell_type": "markdown",
   "metadata": {},
   "source": [
    "Find the incidents per model"
   ]
  },
  {
   "cell_type": "code",
   "execution_count": 97,
   "metadata": {},
   "outputs": [],
   "source": [
    "rv3 = vans_df[vans_df['acft_model'].str.contains(pat='3')]\n",
    "rv4 = vans_df[vans_df['acft_model'].str.contains(pat='4')]\n",
    "rv6 = vans_df[vans_df['acft_model'].str.contains(pat='6')]\n",
    "rv7 = vans_df[vans_df['acft_model'].str.contains(pat='7')]\n",
    "rv8 = vans_df[vans_df['acft_model'].str.contains(pat='8')]\n",
    "rv9 = vans_df[vans_df['acft_model'].str.contains(pat='9')]\n",
    "rv10 = vans_df[vans_df['acft_model'].str.contains(pat='10')]\n",
    "rv12 = vans_df[vans_df['acft_model'].str.contains(pat='12')]"
   ]
  },
  {
   "cell_type": "code",
   "execution_count": 111,
   "metadata": {},
   "outputs": [
    {
     "data": {
      "image/png": "[encoded data removed]",
      "text/plain": [
       "<Figure size 576x396 with 1 Axes>"
      ]
     },
     "metadata": {},
     "output_type": "display_data"
    }
   ],
   "source": [
    "med3 = rv3['flight_hours'].median()\n",
    "med4 = rv4['flight_hours'].median()\n",
    "med6 = rv6['flight_hours'].median()\n",
    "med7 = rv7['flight_hours'].median()\n",
    "med8 = rv8['flight_hours'].median()\n",
    "med9 = rv9['flight_hours'].median()\n",
    "med10 = rv10['flight_hours'].median()\n",
    "med12 =rv12['flight_hours'].median()\n",
    "names = ['RV-3', 'RV-4', 'RV-6', 'RV-7', 'RV-8', 'RV-9', 'RV-10', 'RV-12']\n",
    "meds = [med3, med4, med6, med7, med8, med9, med10, med12]\n",
    "plt.bar(names, meds)\n",
    "plt.title('Median Pilot Total Time per Model')\n",
    "plt.ylabel('Hours')\n",
    "plt.show()"
   ]
  },
  {
   "cell_type": "code",
   "execution_count": 112,
   "metadata": {},
   "outputs": [
    {
     "data": {
      "image/png": "[encoded data removed]",
      "text/plain": [
       "<Figure size 576x396 with 1 Axes>"
      ]
     },
     "metadata": {},
     "output_type": "display_data"
    }
   ],
   "source": [
    "names = ['RV-3', 'RV-4', 'RV-6', 'RV-7', 'RV-8', 'RV-9', 'RV-10', 'RV-12']\n",
    "avg3 = rv3['flight_hours'].mean()\n",
    "avg4 = rv4['flight_hours'].mean()\n",
    "avg6 = rv6['flight_hours'].mean()\n",
    "avg7 = rv7['flight_hours'].mean()\n",
    "avg8 = rv8['flight_hours'].mean()\n",
    "avg9 = rv9['flight_hours'].mean()\n",
    "avg10 = rv10['flight_hours'].mean()\n",
    "avg12 = rv12['flight_hours'].mean()\n",
    "avgs = [avg3, avg4, avg6, avg7, avg8, avg9, avg10, avg12]\n",
    "plt.bar(names, avgs)\n",
    "plt.title('Mean Pilot Total Time per Model')\n",
    "plt.ylabel('Hours')\n",
    "plt.show()"
   ]
  },
  {
   "cell_type": "code",
   "execution_count": 100,
   "metadata": {},
   "outputs": [],
   "source": [
    "rv6 = vans_df[vans_df['acft_model'].str.contains(pat='6')]\n",
    "rv6a = rv6[rv6['acft_model'].str.upper().str.contains(pat='6A')]\n",
    "rv6 = rv6[~rv6['acft_model'].str.upper().str.contains(pat='6A')]"
   ]
  },
  {
   "cell_type": "code",
   "execution_count": 101,
   "metadata": {},
   "outputs": [
    {
     "data": {
      "text/html": [
       "<div>\n",
       "<style scoped>\n",
       "    .dataframe tbody tr th:only-of-type {\n",
       "        vertical-align: middle;\n",
       "    }\n",
       "\n",
       "    .dataframe tbody tr th {\n",
       "        vertical-align: top;\n",
       "    }\n",
       "\n",
       "    .dataframe thead th {\n",
       "        text-align: right;\n",
       "    }\n",
       "</style>\n",
       "<table border=\"1\" class=\"dataframe\">\n",
       "  <thead>\n",
       "    <tr style=\"text-align: right;\">\n",
       "      <th></th>\n",
       "      <th>ev_id</th>\n",
       "      <th>Aircraft_Key</th>\n",
       "      <th>finding_no</th>\n",
       "      <th>finding_code</th>\n",
       "      <th>category_no</th>\n",
       "      <th>subcategory_no</th>\n",
       "      <th>section_no</th>\n",
       "      <th>finding_description</th>\n",
       "      <th>subsection_no</th>\n",
       "      <th>modifier_no</th>\n",
       "      <th>Cause_Factor</th>\n",
       "      <th>lchg_date</th>\n",
       "      <th>lchg_userid</th>\n",
       "    </tr>\n",
       "  </thead>\n",
       "  <tbody>\n",
       "    <tr>\n",
       "      <th>0</th>\n",
       "      <td>20181125X85246</td>\n",
       "      <td>1</td>\n",
       "      <td>1</td>\n",
       "      <td>106202220</td>\n",
       "      <td>1</td>\n",
       "      <td>6</td>\n",
       "      <td>20</td>\n",
       "      <td>Aircraft-Aircraft oper/perf/capability-Perform...</td>\n",
       "      <td>22</td>\n",
       "      <td>20</td>\n",
       "      <td>C</td>\n",
       "      <td>07/08/19 18:40:13</td>\n",
       "      <td>seak</td>\n",
       "    </tr>\n",
       "    <tr>\n",
       "      <th>1</th>\n",
       "      <td>20181125X85246</td>\n",
       "      <td>1</td>\n",
       "      <td>2</td>\n",
       "      <td>206304044</td>\n",
       "      <td>2</td>\n",
       "      <td>6</td>\n",
       "      <td>30</td>\n",
       "      <td>Personnel issues-Task performance-Use of equip...</td>\n",
       "      <td>40</td>\n",
       "      <td>44</td>\n",
       "      <td>C</td>\n",
       "      <td>07/08/19 18:40:13</td>\n",
       "      <td>seak</td>\n",
       "    </tr>\n",
       "    <tr>\n",
       "      <th>2</th>\n",
       "      <td>20120214X84853</td>\n",
       "      <td>1</td>\n",
       "      <td>1</td>\n",
       "      <td>106203711</td>\n",
       "      <td>1</td>\n",
       "      <td>6</td>\n",
       "      <td>20</td>\n",
       "      <td>Aircraft-Aircraft oper/perf/capability-Perform...</td>\n",
       "      <td>37</td>\n",
       "      <td>11</td>\n",
       "      <td>C</td>\n",
       "      <td>03/23/12 18:30:45</td>\n",
       "      <td>snyg</td>\n",
       "    </tr>\n",
       "    <tr>\n",
       "      <th>3</th>\n",
       "      <td>20120214X84853</td>\n",
       "      <td>1</td>\n",
       "      <td>2</td>\n",
       "      <td>204101544</td>\n",
       "      <td>2</td>\n",
       "      <td>4</td>\n",
       "      <td>10</td>\n",
       "      <td>Personnel issues-Action/decision-Action-Incorr...</td>\n",
       "      <td>15</td>\n",
       "      <td>44</td>\n",
       "      <td>C</td>\n",
       "      <td>03/23/12 18:30:45</td>\n",
       "      <td>snyg</td>\n",
       "    </tr>\n",
       "    <tr>\n",
       "      <th>4</th>\n",
       "      <td>20170103X43747</td>\n",
       "      <td>1</td>\n",
       "      <td>1</td>\n",
       "      <td>500000000</td>\n",
       "      <td>5</td>\n",
       "      <td>0</td>\n",
       "      <td>0</td>\n",
       "      <td>Not determined-Not determined-(general)-(gener...</td>\n",
       "      <td>0</td>\n",
       "      <td>0</td>\n",
       "      <td>C</td>\n",
       "      <td>05/28/19 16:22:12</td>\n",
       "      <td>seak</td>\n",
       "    </tr>\n",
       "  </tbody>\n",
       "</table>\n",
       "</div>"
      ],
      "text/plain": [
       "            ev_id  Aircraft_Key  finding_no  finding_code  category_no  \\\n",
       "0  20181125X85246             1           1     106202220            1   \n",
       "1  20181125X85246             1           2     206304044            2   \n",
       "2  20120214X84853             1           1     106203711            1   \n",
       "3  20120214X84853             1           2     204101544            2   \n",
       "4  20170103X43747             1           1     500000000            5   \n",
       "\n",
       "   subcategory_no  section_no  \\\n",
       "0               6          20   \n",
       "1               6          30   \n",
       "2               6          20   \n",
       "3               4          10   \n",
       "4               0           0   \n",
       "\n",
       "                                 finding_description  subsection_no  \\\n",
       "0  Aircraft-Aircraft oper/perf/capability-Perform...             22   \n",
       "1  Personnel issues-Task performance-Use of equip...             40   \n",
       "2  Aircraft-Aircraft oper/perf/capability-Perform...             37   \n",
       "3  Personnel issues-Action/decision-Action-Incorr...             15   \n",
       "4  Not determined-Not determined-(general)-(gener...              0   \n",
       "\n",
       "   modifier_no Cause_Factor          lchg_date lchg_userid  \n",
       "0           20            C  07/08/19 18:40:13        seak  \n",
       "1           44            C  07/08/19 18:40:13        seak  \n",
       "2           11            C  03/23/12 18:30:45        snyg  \n",
       "3           44            C  03/23/12 18:30:45        snyg  \n",
       "4            0            C  05/28/19 16:22:12        seak  "
      ]
     },
     "execution_count": 101,
     "metadata": {},
     "output_type": "execute_result"
    }
   ],
   "source": [
    "findings_df = pd.read_csv('data/Findings.csv')\n",
    "findings_df.head(5)"
   ]
  },
  {
   "cell_type": "code",
   "execution_count": 102,
   "metadata": {},
   "outputs": [],
   "source": [
    "control_df = findings_df[findings_df['finding_description'].str.lower().str.strip().str.contains(pat='control')][['ev_id']]\n",
    "control_df = control_df['ev_id']\n",
    "control_df = control_df.drop_duplicates()"
   ]
  },
  {
   "cell_type": "code",
   "execution_count": 103,
   "metadata": {},
   "outputs": [],
   "source": [
    "rv6_control = rv6.merge(control_df, on='ev_id')[['acft_model', 'flight_hours', 'ev_id']]\n",
    "rv6a_control = rv6a.merge(control_df, on='ev_id')[['acft_model', 'flight_hours', 'ev_id']]"
   ]
  },
  {
   "cell_type": "markdown",
   "metadata": {},
   "source": [
    "## Null Hypothesis:\n",
    "RV-6 pilot miscontrol rate is **equal** than the RV-6A pilot miscontrol rate.\n",
    "\n",
    "## Alternative Hyptothesis:\n",
    "RV-6 pilot miscontrol rate is **greater** than the RV-6A pilot miscontrol rate."
   ]
  },
  {
   "cell_type": "markdown",
   "metadata": {},
   "source": [
    "## Calculating the proportions"
   ]
  },
  {
   "cell_type": "markdown",
   "metadata": {},
   "source": [
    "### rho_1 is the RV-6"
   ]
  },
  {
   "cell_type": "code",
   "execution_count": 104,
   "metadata": {},
   "outputs": [
    {
     "data": {
      "text/plain": [
       "0.22807017543859648"
      ]
     },
     "execution_count": 104,
     "metadata": {},
     "output_type": "execute_result"
    }
   ],
   "source": [
    "rv6_size = len(rv6.index)\n",
    "rv6_control_size = len(rv6_control.index)\n",
    "rv6_prop = rv6_control_size / rv6_size\n",
    "rv6_prop"
   ]
  },
  {
   "cell_type": "markdown",
   "metadata": {},
   "source": [
    "### rho_2 is the RV-6A"
   ]
  },
  {
   "cell_type": "code",
   "execution_count": 105,
   "metadata": {},
   "outputs": [
    {
     "data": {
      "text/plain": [
       "0.2283464566929134"
      ]
     },
     "execution_count": 105,
     "metadata": {},
     "output_type": "execute_result"
    }
   ],
   "source": [
    "rv6a_size = len(rv6a.index)\n",
    "rv6a_control_size = len(rv6a_control.index)\n",
    "rv6a_prop = rv6a_control_size / rv6a_size\n",
    "rv6a_prop"
   ]
  },
  {
   "cell_type": "markdown",
   "metadata": {},
   "source": [
    "## Caclulating the standard deviation"
   ]
  },
  {
   "cell_type": "code",
   "execution_count": 106,
   "metadata": {},
   "outputs": [],
   "source": [
    "rho_hat = (rv6_control_size + rv6a_control_size) / (rv6_size + rv6a_size)\n",
    "std_err = math.sqrt(rho_hat * (1 - rho_hat) * ((1/rv6_size) + (1/rv6a_size)))\n",
    "z = (rv6_control_size - rv6a_control_size) / std_err"
   ]
  },
  {
   "cell_type": "code",
   "execution_count": 107,
   "metadata": {},
   "outputs": [
    {
     "data": {
      "text/plain": [
       "203.4181373892845"
      ]
     },
     "execution_count": 107,
     "metadata": {},
     "output_type": "execute_result"
    }
   ],
   "source": [
    "z"
   ]
  },
  {
   "cell_type": "markdown",
   "metadata": {},
   "source": [
    "## Reject the null hypothesis"
   ]
  }
 ],
 "metadata": {
  "kernelspec": {
   "display_name": "Python 3",
   "language": "python",
   "name": "python3"
  },
  "language_info": {
   "codemirror_mode": {
    "name": "ipython",
    "version": 3
   },
   "file_extension": ".py",
   "mimetype": "text/x-python",
   "name": "python",
   "nbconvert_exporter": "python",
   "pygments_lexer": "ipython3",
   "version": "3.7.3"
  }
 },
 "nbformat": 4,
 "nbformat_minor": 2
}
