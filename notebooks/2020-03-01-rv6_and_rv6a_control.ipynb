{
 "cells": [
  {
   "cell_type": "markdown",
   "metadata": {},
   "source": [
    "# Van's RV Mean and Median Flight Hours"
   ]
  },
  {
   "cell_type": "markdown",
   "metadata": {},
   "source": [
    "## Statistics help from:\n",
    "https://www.dummies.com/education/math/statistics/how-to-compare-two-population-proportions/"
   ]
  },
  {
   "cell_type": "markdown",
   "metadata": {},
   "source": [
    "## Imports"
   ]
  },
  {
   "cell_type": "code",
   "execution_count": 4,
   "metadata": {},
   "outputs": [],
   "source": [
    "import math\n",
    "import pandas as pd\n",
    "import matplotlib.pyplot as plt\n",
    "from scipy.stats import ttest_ind\n",
    "\n",
    "plt.style.use('seaborn')"
   ]
  },
  {
   "cell_type": "markdown",
   "metadata": {},
   "source": [
    "## Load aircraft data"
   ]
  },
  {
   "cell_type": "code",
   "execution_count": 5,
   "metadata": {},
   "outputs": [],
   "source": [
    "all_df = pd.read_csv('../data/aircraft.csv')\n",
    "exp_df = all_df.dropna(subset=['acft_model'])  # [['']]"
   ]
  },
  {
   "cell_type": "markdown",
   "metadata": {},
   "source": [
    "## Load pilot data"
   ]
  },
  {
   "cell_type": "code",
   "execution_count": 6,
   "metadata": {},
   "outputs": [],
   "source": [
    "pilot_df = pd.read_csv('../data/flight_time.csv')\n",
    "pilot_df = pilot_df[pilot_df['flight_type'].str.lower().str.strip().str.contains(pat='totl')]\n",
    "pilot_df = pilot_df[pilot_df['flight_craft'].str.lower().str.strip().str.contains(pat='all')]\n",
    "pilot_df = pilot_df[pilot_df['crew_no'] == 1]\n",
    "pilot_df = pilot_df[['ev_id', 'flight_hours']]"
   ]
  },
  {
   "cell_type": "markdown",
   "metadata": {},
   "source": [
    "## Load findings data"
   ]
  },
  {
   "cell_type": "code",
   "execution_count": 7,
   "metadata": {},
   "outputs": [],
   "source": [
    "findings_df = pd.read_csv('../data/Findings.csv')"
   ]
  },
  {
   "cell_type": "markdown",
   "metadata": {},
   "source": [
    "## Join the RV and pilot dataframes"
   ]
  },
  {
   "cell_type": "code",
   "execution_count": 8,
   "metadata": {},
   "outputs": [],
   "source": [
    "vans_df = exp_df[exp_df['acft_model'].str.lower().str.strip().str.contains(pat='rv')]\n",
    "vans_df = vans_df.merge(pilot_df, on='ev_id')[['acft_model', 'flight_hours', 'ev_id']]"
   ]
  },
  {
   "cell_type": "markdown",
   "metadata": {},
   "source": [
    "## Find the incidents per model"
   ]
  },
  {
   "cell_type": "code",
   "execution_count": 9,
   "metadata": {},
   "outputs": [],
   "source": [
    "rv6 = vans_df[vans_df['acft_model'].str.contains(pat='6')]\n",
    "rv6a = rv6[rv6['acft_model'].str.upper().str.contains(pat='6A')]\n",
    "rv6 = rv6[~rv6['acft_model'].str.upper().str.contains(pat='6A')]"
   ]
  },
  {
   "cell_type": "markdown",
   "metadata": {},
   "source": [
    "## Find incidents involving the matter of \"control\""
   ]
  },
  {
   "cell_type": "code",
   "execution_count": 10,
   "metadata": {},
   "outputs": [],
   "source": [
    "control_df = findings_df[findings_df['finding_description'].str.lower().str.strip().str.contains(pat='control')][['ev_id']]\n",
    "control_df = control_df['ev_id']\n",
    "control_df = control_df.drop_duplicates()"
   ]
  },
  {
   "cell_type": "markdown",
   "metadata": {},
   "source": [
    "## Distinguish control events between models"
   ]
  },
  {
   "cell_type": "code",
   "execution_count": 11,
   "metadata": {},
   "outputs": [],
   "source": [
    "rv6_control = rv6.merge(control_df, on='ev_id')[['acft_model', 'flight_hours', 'ev_id']]\n",
    "rv6a_control = rv6a.merge(control_df, on='ev_id')[['acft_model', 'flight_hours', 'ev_id']]"
   ]
  },
  {
   "cell_type": "markdown",
   "metadata": {},
   "source": [
    "## Null Hypothesis:\n",
    "RV-6 pilot miscontrol rate is **equal** than the RV-6A pilot miscontrol rate.\n",
    "\n",
    "## Alternative Hyptothesis:\n",
    "RV-6 pilot miscontrol rate is **greater** than the RV-6A pilot miscontrol rate."
   ]
  },
  {
   "cell_type": "markdown",
   "metadata": {},
   "source": [
    "## Calculating the proportions"
   ]
  },
  {
   "cell_type": "markdown",
   "metadata": {},
   "source": [
    "### rho_1 is the RV-6"
   ]
  },
  {
   "cell_type": "code",
   "execution_count": 12,
   "metadata": {},
   "outputs": [
    {
     "data": {
      "text/plain": [
       "0.22807017543859648"
      ]
     },
     "execution_count": 12,
     "metadata": {},
     "output_type": "execute_result"
    }
   ],
   "source": [
    "p_1 = len(rv6_control.index)\n",
    "n_1 = len(rv6.index)\n",
    "rho_hat_1 = p_1 / n_1\n",
    "rho_hat_1"
   ]
  },
  {
   "cell_type": "markdown",
   "metadata": {},
   "source": [
    "### rho_2 is the RV-6A"
   ]
  },
  {
   "cell_type": "code",
   "execution_count": 13,
   "metadata": {},
   "outputs": [
    {
     "data": {
      "text/plain": [
       "0.2283464566929134"
      ]
     },
     "execution_count": 13,
     "metadata": {},
     "output_type": "execute_result"
    }
   ],
   "source": [
    "p_2 = len(rv6a_control.index)\n",
    "n_2 = len(rv6a.index)\n",
    "rho_hat_2 = p_2 / n_2\n",
    "rho_hat_2"
   ]
  },
  {
   "cell_type": "markdown",
   "metadata": {},
   "source": [
    "## Caclulating the standard deviation"
   ]
  },
  {
   "cell_type": "code",
   "execution_count": 14,
   "metadata": {},
   "outputs": [],
   "source": [
    "rho_hat = (p_1 + p_2) / (n_1 + n_2)\n",
    "std_err = math.sqrt(rho_hat * (1 - rho_hat) * ((1 / n_1) + (1 / n_2)))\n",
    "z = (p_1 - p_2) / std_err"
   ]
  },
  {
   "cell_type": "code",
   "execution_count": 15,
   "metadata": {},
   "outputs": [
    {
     "data": {
      "text/plain": [
       "203.4181373892845"
      ]
     },
     "execution_count": 15,
     "metadata": {},
     "output_type": "execute_result"
    }
   ],
   "source": [
    "z"
   ]
  },
  {
   "cell_type": "markdown",
   "metadata": {},
   "source": [
    "## Reject the null hypothesis!"
   ]
  }
 ],
 "metadata": {
  "kernelspec": {
   "display_name": "Python 3",
   "language": "python",
   "name": "python3"
  },
  "language_info": {
   "codemirror_mode": {
    "name": "ipython",
    "version": 3
   },
   "file_extension": ".py",
   "mimetype": "text/x-python",
   "name": "python",
   "nbconvert_exporter": "python",
   "pygments_lexer": "ipython3",
   "version": "3.7.3"
  }
 },
 "nbformat": 4,
 "nbformat_minor": 2
}
