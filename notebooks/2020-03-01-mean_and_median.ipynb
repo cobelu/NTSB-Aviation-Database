{
 "cells": [
  {
   "cell_type": "markdown",
   "metadata": {},
   "source": [
    "# Van's RV Mean and Median Flight Hours"
   ]
  },
  {
   "cell_type": "markdown",
   "metadata": {},
   "source": [
    "https://www.kitplanes.com/homebuilt-accidents-focus-on-vans/?fbclid=IwAR16rMvKRhAimdUmXEr3VduVHuHiNZc0G08vp0zmC9sv46oHW1a6PhQ4E8Q"
   ]
  },
  {
   "cell_type": "markdown",
   "metadata": {},
   "source": [
    "## Imports"
   ]
  },
  {
   "cell_type": "code",
   "execution_count": 18,
   "metadata": {},
   "outputs": [],
   "source": [
    "import math\n",
    "import pandas as pd\n",
    "import matplotlib.pyplot as plt\n",
    "from scipy.stats import ttest_ind\n",
    "\n",
    "plt.style.use('seaborn')"
   ]
  },
  {
   "cell_type": "markdown",
   "metadata": {},
   "source": [
    "## Load aircraft data"
   ]
  },
  {
   "cell_type": "code",
   "execution_count": 3,
   "metadata": {},
   "outputs": [],
   "source": [
    "all_df = pd.read_csv('../data/aircraft.csv')\n",
    "exp_df = all_df.dropna(subset=['acft_model'])  # [['']]"
   ]
  },
  {
   "cell_type": "markdown",
   "metadata": {},
   "source": [
    "## Load pilot data"
   ]
  },
  {
   "cell_type": "code",
   "execution_count": 4,
   "metadata": {},
   "outputs": [],
   "source": [
    "pilot_df = pd.read_csv('../data/flight_time.csv')\n",
    "pilot_df = pilot_df[pilot_df['flight_type'].str.lower().str.strip().str.contains(pat='totl')]\n",
    "pilot_df = pilot_df[pilot_df['flight_craft'].str.lower().str.strip().str.contains(pat='all')]\n",
    "pilot_df = pilot_df[pilot_df['crew_no'] == 1]\n",
    "pilot_df = pilot_df[['ev_id', 'flight_hours']]"
   ]
  },
  {
   "cell_type": "markdown",
   "metadata": {},
   "source": [
    "## Join the RV and pilot dataframes"
   ]
  },
  {
   "cell_type": "code",
   "execution_count": 5,
   "metadata": {},
   "outputs": [],
   "source": [
    "vans_df = exp_df[exp_df['acft_model'].str.lower().str.strip().str.contains(pat='rv')]\n",
    "vans_df = vans_df.merge(pilot_df, on='ev_id')[['acft_model', 'flight_hours', 'ev_id']]"
   ]
  },
  {
   "cell_type": "markdown",
   "metadata": {},
   "source": [
    "## Find the incidents per model"
   ]
  },
  {
   "cell_type": "code",
   "execution_count": 6,
   "metadata": {},
   "outputs": [],
   "source": [
    "rv3 = vans_df[vans_df['acft_model'].str.contains(pat='3')]\n",
    "rv4 = vans_df[vans_df['acft_model'].str.contains(pat='4')]\n",
    "rv6 = vans_df[vans_df['acft_model'].str.contains(pat='6')]\n",
    "rv7 = vans_df[vans_df['acft_model'].str.contains(pat='7')]\n",
    "rv8 = vans_df[vans_df['acft_model'].str.contains(pat='8')]\n",
    "rv9 = vans_df[vans_df['acft_model'].str.contains(pat='9')]\n",
    "rv10 = vans_df[vans_df['acft_model'].str.contains(pat='10')]\n",
    "rv12 = vans_df[vans_df['acft_model'].str.contains(pat='12')]"
   ]
  },
  {
   "cell_type": "markdown",
   "metadata": {},
   "source": [
    "## Plot the median flight hours per model"
   ]
  },
  {
   "cell_type": "code",
   "execution_count": 7,
   "metadata": {},
   "outputs": [
    {
     "data": {
      "image/png": "[encoded data removed]",
      "text/plain": [
       "<Figure size 576x396 with 1 Axes>"
      ]
     },
     "metadata": {},
     "output_type": "display_data"
    }
   ],
   "source": [
    "med3 = rv3['flight_hours'].median()\n",
    "med4 = rv4['flight_hours'].median()\n",
    "med6 = rv6['flight_hours'].median()\n",
    "med7 = rv7['flight_hours'].median()\n",
    "med8 = rv8['flight_hours'].median()\n",
    "med9 = rv9['flight_hours'].median()\n",
    "med10 = rv10['flight_hours'].median()\n",
    "med12 =rv12['flight_hours'].median()\n",
    "names = ['RV-3', 'RV-4', 'RV-6', 'RV-7', 'RV-8', 'RV-9', 'RV-10', 'RV-12']\n",
    "meds = [med3, med4, med6, med7, med8, med9, med10, med12]\n",
    "plt.bar(names, meds)\n",
    "plt.title('Median Pilot Total Time per Model')\n",
    "plt.ylabel('Hours')\n",
    "plt.show()"
   ]
  },
  {
   "cell_type": "markdown",
   "metadata": {},
   "source": [
    "## Plot the mean flight hours per model"
   ]
  },
  {
   "cell_type": "code",
   "execution_count": 8,
   "metadata": {},
   "outputs": [
    {
     "data": {
      "image/png": "[encoded data removed]",
      "text/plain": [
       "<Figure size 576x396 with 1 Axes>"
      ]
     },
     "metadata": {},
     "output_type": "display_data"
    }
   ],
   "source": [
    "names = ['RV-3', 'RV-4', 'RV-6', 'RV-7', 'RV-8', 'RV-9', 'RV-10', 'RV-12']\n",
    "avg3 = rv3['flight_hours'].mean()\n",
    "avg4 = rv4['flight_hours'].mean()\n",
    "avg6 = rv6['flight_hours'].mean()\n",
    "avg7 = rv7['flight_hours'].mean()\n",
    "avg8 = rv8['flight_hours'].mean()\n",
    "avg9 = rv9['flight_hours'].mean()\n",
    "avg10 = rv10['flight_hours'].mean()\n",
    "avg12 = rv12['flight_hours'].mean()\n",
    "avgs = [avg3, avg4, avg6, avg7, avg8, avg9, avg10, avg12]\n",
    "plt.bar(names, avgs)\n",
    "plt.title('Mean Pilot Total Time per Model')\n",
    "plt.ylabel('Hours')\n",
    "plt.show()"
   ]
  }
 ],
 "metadata": {
  "kernelspec": {
   "display_name": "Python 3",
   "language": "python",
   "name": "python3"
  },
  "language_info": {
   "codemirror_mode": {
    "name": "ipython",
    "version": 3
   },
   "file_extension": ".py",
   "mimetype": "text/x-python",
   "name": "python",
   "nbconvert_exporter": "python",
   "pygments_lexer": "ipython3",
   "version": "3.7.3"
  }
 },
 "nbformat": 4,
 "nbformat_minor": 2
}
